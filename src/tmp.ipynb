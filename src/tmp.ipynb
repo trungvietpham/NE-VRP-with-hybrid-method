{
 "cells": [
  {
   "cell_type": "code",
   "execution_count": 1,
   "metadata": {},
   "outputs": [],
   "source": [
    "import sys\n",
    "from BaseClass.Node import NodeController\n",
    "from BaseClass.Order import OrderController\n",
    "\n",
    "from Visualize import Visualize\n",
    "sys.path.append(\"\")\n",
    "from Phase1 import Phase1\n",
    "from Phase2 import Phase2\n",
    "from PrepareData import PrepareData\n",
    "\n",
    "from time import time\n",
    "import pickle as pkl"
   ]
  },
  {
   "attachments": {},
   "cell_type": "markdown",
   "metadata": {},
   "source": [
    "# Solution"
   ]
  },
  {
   "cell_type": "code",
   "execution_count": 2,
   "metadata": {},
   "outputs": [],
   "source": [
    "def check(vehicle_controller_hierarchical, province_node_controller, province_code, province_exist_order_list: list[str]):\n",
    "    if province_code not in province_exist_order_list: \n",
    "        # print(f\"{province_code} not found order\")\n",
    "        return False\n",
    "    if province_code not in vehicle_controller_hierarchical: \n",
    "        # print(f\"{province_code} not found in vehicle list\")\n",
    "        # input('asdfgh')\n",
    "        return False\n",
    "    if 'GD1' not in province_node_controller: \n",
    "        # print(f\"Province {province_code} don't have GD1 point\")\n",
    "        # input('streurhtor')\n",
    "        return False\n",
    "    \n",
    "    if 'GD2' not in province_node_controller:\n",
    "        # print(f\"Province {province_code} don't have GD2 point\")\n",
    "        return False\n",
    "    return True\n",
    "\n",
    "def merge_order(order_controller_list) -> OrderController:\n",
    "    res = OrderController()\n",
    "    for o_c in order_controller_list:\n",
    "        res.__add__(o_c)\n",
    "    return res \n",
    "\n",
    "def dump(data, filename):\n",
    "    with open(filename, 'wb') as f: \n",
    "        pkl.dump(data, f, pkl.HIGHEST_PROTOCOL)\n",
    "    return \n",
    "\n",
    "def load(filename):\n",
    "    with open(filename, 'wb') as f: \n",
    "        return pkl.load(f)\n"
   ]
  },
  {
   "attachments": {},
   "cell_type": "markdown",
   "metadata": {},
   "source": [
    "## Prepare phase"
   ]
  },
  {
   "cell_type": "code",
   "execution_count": null,
   "metadata": {},
   "outputs": [],
   "source": [
    "times = {}\n",
    "t1 = time()\n",
    "prepare_phase = PrepareData(r'data\\vehicles.tsv', r'data\\node.tsv', r'data\\correlations.tsv', r'data\\order.tsv')\n",
    "all_data = prepare_phase.execute()\n",
    "dump({'data': all_data, 'phase': prepare_phase, 'time': times}, '../dump/prepare_phase.pkl')\n"
   ]
  },
  {
   "attachments": {},
   "cell_type": "markdown",
   "metadata": {},
   "source": [
    "## Phase 1"
   ]
  },
  {
   "cell_type": "code",
   "execution_count": null,
   "metadata": {},
   "outputs": [],
   "source": [
    "data = pkl.load(open('../dump/prepare_phase.pkl', 'rb'))\n",
    "all_data, prepare_phase, times = list(data.values())\n",
    "main_all_order = prepare_phase.order_hierachical_by_province(all_data[2].copy())\n",
    "times['prepare data'] = time() - t1\n",
    "\n",
    "# main_all_order = all_order_by_province.copy()\n",
    "start_node_controller = NodeController()\n",
    "for k in all_data[0]:\n",
    "    start_node_controller.__add__(all_data[0][k]['GD1'])\n",
    "# all_data[0][province_code]['GD1'].copy()\n",
    "# start_node_controller = prepare_phase.concatenate(a_dict)\n",
    "# all_data[1].print()\n",
    "# encode = ['GD2', 'GD1']\n",
    "# decode = encode[::-1]\n",
    "\n",
    "main_order_controller = all_data[2].copy() # For encode phase\n",
    "support_order_controller = all_data[2].copy() # for decode phase\n",
    "\n",
    "print(f\"sender side: GD2 -> GD1:\")\n",
    "phase_data = {}\n",
    "# print(main_all_order.keys())\n",
    "# input('asdiyhage')\n",
    "t1 = time()\n",
    "for province_code in all_data[0]:\n",
    "    print(f\"Province code: {province_code}\")\n",
    "    if not check(all_data[1], all_data[0][province_code], province_code, list(main_all_order.keys())): continue\n",
    "    \n",
    "    all_data[4][province_code]\n",
    "    phase = Phase1(all_data[1][province_code], main_all_order[province_code], all_data[3], all_data[4][province_code].copy())\n",
    "    # all_data[0][province_code]['GD2'].print()\n",
    "    main_all_order[province_code], phase_data = phase.execute(all_data[0][province_code]['GD2'].copy(), all_data[0][province_code]['GD1'].copy(), phase_data)\n",
    "\n",
    "phase.output_to_json(phase_data, 'scenarios/output_sender_side.GD2-GD1.json')\n",
    "    # main_order_controller = Phase1(all_data[1], main_order_controller, all_data[3], all_data[4].copy()).execute(all_data[0][encode[i]].copy(), all_data[0][encode[i+1]].copy(), f'scenarios/output_sender_side.{encode[i]}-{encode[i+1]}.json')\n",
    "times['phase 1'] = time() - t1\n",
    "dump({'phase 1': main_all_order, 'time': times}, '../dump/phase1.pkl')"
   ]
  },
  {
   "attachments": {},
   "cell_type": "markdown",
   "metadata": {},
   "source": [
    "## Phase 3"
   ]
  },
  {
   "cell_type": "code",
   "execution_count": 3,
   "metadata": {},
   "outputs": [],
   "source": [
    "prepare_data = pkl.load(open('../dump/prepare_phase.pkl', 'rb'))\n",
    "all_data, prepare_phase, times = list(prepare_data.values())\n",
    "phase1_data = pkl.load(open('../dump/phase1.pkl', 'rb'))\n",
    "main_all_order, times = list(phase1_data.values())\n",
    "\n",
    "main_order_controller = all_data[2].copy() # For encode phase\n",
    "support_order_controller = all_data[2].copy() # for decode phase\n"
   ]
  },
  {
   "cell_type": "code",
   "execution_count": 4,
   "metadata": {},
   "outputs": [],
   "source": [
    "# Nếu là receiver side thì append depot id vào order current state trước khi chạy phase 1\n",
    "support_order_controller = prepare_phase.update_order_state(support_order_controller, by='end')\n",
    "support_all_order = prepare_phase.order_hierachical_by_province(support_order_controller, sender_flag=False)"
   ]
  },
  {
   "cell_type": "code",
   "execution_count": null,
   "metadata": {},
   "outputs": [],
   "source": [
    "t1 = time()\n",
    "\n",
    "print(f\"Receiver side: GD1 -> GD2\")\n",
    "# del phase_data\n",
    "phase_data = {}\n",
    "for province_code in all_data[0]:\n",
    "# for province_code in [55]:\n",
    "    print(f\"Province code: {province_code}\")\n",
    "    if not check(all_data[1], all_data[0][province_code], province_code, list(support_all_order.keys())): continue\n",
    "    \n",
    "    phase = Phase1(all_data[1][province_code], support_all_order[province_code], all_data[3], all_data[4][province_code].copy())\n",
    "    support_all_order[province_code], phase_data = phase.execute(all_data[0][province_code]['GD2'].copy(), all_data[0][province_code]['GD1'].copy(), phase_data, reverse=True)\n",
    "phase.output_to_json(phase_data, 'scenarios/output_receiver_side.GD2-GD1.json')\n",
    "times['phase 3'] = time() - t1\n",
    "dump({'phase 3': support_all_order, 'time': times}, '../dump/phase3.pkl')"
   ]
  },
  {
   "attachments": {},
   "cell_type": "markdown",
   "metadata": {},
   "source": [
    "## Phase 2"
   ]
  },
  {
   "cell_type": "code",
   "execution_count": 5,
   "metadata": {},
   "outputs": [],
   "source": [
    "phase3_data = pkl.load(open('../dump/phase3.pkl', 'rb'))\n",
    "support_all_order, times = list(phase3_data.values())\n",
    "start_node_controller = NodeController()\n",
    "for k in all_data[0]:\n",
    "    start_node_controller.__add__(all_data[0][k]['GD1'])"
   ]
  },
  {
   "cell_type": "code",
   "execution_count": null,
   "metadata": {},
   "outputs": [],
   "source": [
    "t1 = time()\n",
    "main_order_controller = merge_order(list(main_all_order.values()))\n",
    "support_order_controller = merge_order(list(support_all_order.values()))\n",
    "# Phase 2:\n",
    "vehicle_controller = prepare_phase.concatenate(all_data[1])\n",
    "node_contain_vehicle = prepare_phase.concatenate(all_data[4])\n",
    "main_order_controller = Phase2(vehicle_controller, main_order_controller, support_order_controller, all_data[3], node_contain_vehicle).execute(start_node_controller, start_node_controller, f'scenarios/output_sender_receiver.GD1-GD1.json')\n",
    "times['phase 2'] = time() - t1\n",
    "dump({'phase 2': main_order_controller, 'time': times}, '../dump/phase2.pkl')"
   ]
  },
  {
   "cell_type": "code",
   "execution_count": 6,
   "metadata": {},
   "outputs": [
    {
     "ename": "IndexError",
     "evalue": "list index out of range",
     "output_type": "error",
     "traceback": [
      "\u001b[1;31m---------------------------------------------------------------------------\u001b[0m",
      "\u001b[1;31mIndexError\u001b[0m                                Traceback (most recent call last)",
      "Cell \u001b[1;32mIn[6], line 3\u001b[0m\n\u001b[0;32m      1\u001b[0m visualize \u001b[39m=\u001b[39m Visualize(all_data[\u001b[39m0\u001b[39m], main_order_controller, support_order_controller)\n\u001b[0;32m      2\u001b[0m order_path \u001b[39m=\u001b[39m visualize\u001b[39m.\u001b[39mget_order_route()\n\u001b[1;32m----> 3\u001b[0m vehicle_path \u001b[39m=\u001b[39m visualize\u001b[39m.\u001b[39;49mget_vehicle_route()\n\u001b[0;32m      4\u001b[0m \u001b[39m# print(order_path)\u001b[39;00m\n\u001b[0;32m      5\u001b[0m visualize\u001b[39m.\u001b[39moutput_to_file(order_path, \u001b[39m'\u001b[39m\u001b[39mscenarios/order.json\u001b[39m\u001b[39m'\u001b[39m) \n",
      "File \u001b[1;32md:\\TaiLieuHocTap\\DANO\\nevrp\\src\\Visualize.py:70\u001b[0m, in \u001b[0;36mVisualize.get_vehicle_route\u001b[1;34m(self)\u001b[0m\n\u001b[0;32m     68\u001b[0m order_des \u001b[39m=\u001b[39m {}\n\u001b[0;32m     69\u001b[0m \u001b[39mfor\u001b[39;00m order, node \u001b[39min\u001b[39;00m sender_receiver[\u001b[39m'\u001b[39m\u001b[39morder\u001b[39m\u001b[39m'\u001b[39m]\u001b[39m.\u001b[39mitems():\n\u001b[1;32m---> 70\u001b[0m     node \u001b[39m=\u001b[39m node\u001b[39m.\u001b[39;49msplit(\u001b[39m'\u001b[39;49m\u001b[39m -> \u001b[39;49m\u001b[39m'\u001b[39;49m)[\u001b[39m1\u001b[39;49m]\n\u001b[0;32m     71\u001b[0m     \u001b[39mif\u001b[39;00m node \u001b[39mnot\u001b[39;00m \u001b[39min\u001b[39;00m order_des: order_des[node] \u001b[39m=\u001b[39m []\n\u001b[0;32m     72\u001b[0m     order_des[node]\u001b[39m.\u001b[39mappend(order)\n",
      "\u001b[1;31mIndexError\u001b[0m: list index out of range"
     ]
    }
   ],
   "source": [
    "visualize = Visualize(all_data[0], main_order_controller, support_order_controller)\n",
    "order_path = visualize.get_order_route()\n",
    "vehicle_path = visualize.get_vehicle_route()\n",
    "# print(order_path)\n",
    "visualize.output_to_file(order_path, 'scenarios/order.json') \n",
    "visualize.output_to_file(vehicle_path, 'scenarios/vehicle.json')\n",
    "\n",
    "print(times)"
   ]
  }
 ],
 "metadata": {
  "kernelspec": {
   "display_name": "project2",
   "language": "python",
   "name": "python3"
  },
  "language_info": {
   "codemirror_mode": {
    "name": "ipython",
    "version": 3
   },
   "file_extension": ".py",
   "mimetype": "text/x-python",
   "name": "python",
   "nbconvert_exporter": "python",
   "pygments_lexer": "ipython3",
   "version": "3.10.4"
  },
  "orig_nbformat": 4
 },
 "nbformat": 4,
 "nbformat_minor": 2
}
